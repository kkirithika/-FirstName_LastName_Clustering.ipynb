import pandas as pd
import numpy as np
import matplotlib.pyplot as plt
import seaborn as sns
from sklearn.preprocessing import StandardScaler
from sklearn.cluster import KMeans
from sklearn.metrics import davies_bouldin_score


customers = pd.read_csv("Customers.csv")
transactions = pd.read_csv("Transactions.csv")


customer_spending = transactions.groupby("CustomerID")["TotalValue"].sum().reset_index()
customer_product_count = transactions.groupby("CustomerID")["ProductID"].nunique().reset_index()


customer_data = pd.merge(customers, customer_spending, on="CustomerID", how="left").fillna(0)
customer_data = pd.merge(customer_data, customer_product_count, on="CustomerID", how="left").fillna(0)


features = ["TotalValue", "ProductID"]
scaler = StandardScaler()
customer_data_scaled = scaler.fit_transform(customer_data[features])

num_clusters = 4 
kmeans = KMeans(n_clusters=num_clusters, random_state=42)
kmeans_labels = kmeans.fit_predict(customer_data_scaled)
customer_data["Cluster"] = kmeans_labels


db_index = davies_bouldin_score(customer_data_scaled, kmeans_labels)
print(f"Davies-Bouldin Index: {db_index}")


plt.figure(figsize=(10, 6))
sns.scatterplot(x=customer_data["TotalValue"], y=customer_data["ProductID"], hue=customer_data["Cluster"], palette="viridis")
plt.title("Customer Segmentation based on Transactions")
plt.xlabel("Total Transaction Value")
plt.ylabel("Number of Unique Products Purchased")
plt.show()
customer_data[["CustomerID", "Cluster"]].to_csv("Customer_Segments.csv", index=False)
